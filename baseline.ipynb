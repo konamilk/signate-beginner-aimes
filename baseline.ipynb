{
 "cells": [
  {
   "cell_type": "markdown",
   "metadata": {},
   "source": [
    "# baseline\n",
    "\n",
    "\n",
    "CV | 15121.815522879584\n",
    "\n",
    "PrivateLB | 26707.419"
   ]
  },
  {
   "cell_type": "code",
   "execution_count": 20,
   "metadata": {},
   "outputs": [],
   "source": [
    "MODEL_NAME = 'baseline'"
   ]
  },
  {
   "cell_type": "code",
   "execution_count": 2,
   "metadata": {},
   "outputs": [],
   "source": [
    "import numpy as np\n",
    "import pandas as pd\n",
    "import matplotlib.pyplot as plt\n",
    "import seaborn as sns\n",
    "\n",
    "from sklearn.model_selection import KFold\n",
    "from functools import partial\n",
    "\n",
    "import lightgbm as lgb\n",
    "\n",
    "import json\n",
    "\n",
    "from xfeat import SelectCategorical, LabelEncoder, Pipeline, ConcatCombination, SelectNumerical, \\\n",
    "    ArithmeticCombinations, TargetEncoder, aggregation, GBDTFeatureSelector, GBDTFeatureExplorer"
   ]
  },
  {
   "cell_type": "code",
   "execution_count": 3,
   "metadata": {},
   "outputs": [],
   "source": [
    "import time\n",
    "\n",
    "from contextlib import contextmanager\n",
    "\n",
    "\n",
    "@contextmanager\n",
    "def timer(name):\n",
    "    t0 = time.time()\n",
    "    yield\n",
    "    print(f'[{name}] done in {time.time() - t0:.0f} s')"
   ]
  },
  {
   "cell_type": "code",
   "execution_count": 4,
   "metadata": {},
   "outputs": [],
   "source": [
    "df_train = pd.read_csv('./input/train.csv')\n",
    "df_test = pd.read_csv('./input/test.csv')"
   ]
  },
  {
   "cell_type": "code",
   "execution_count": 5,
   "metadata": {},
   "outputs": [],
   "source": [
    "numeric_columns = ['index','Order', 'MS SubClass', 'Lot Area', 'Overall Qual',\n",
    "       'Overall Cond', 'Year Built', 'Year Remod/Add', '1st Flr SF',\n",
    "       '2nd Flr SF', 'Gr Liv Area', 'Full Bath', 'Half Bath', 'Bedroom AbvGr',\n",
    "       'Kitchen AbvGr', 'TotRms AbvGrd', 'Fireplaces', 'Wood Deck SF',\n",
    "       'Open Porch SF', 'Mo Sold', 'Yr Sold', 'SalePrice']\n",
    "\n",
    "string_columns = ['MS Zoning', 'Lot Shape', 'Land Contour', 'Lot Config', 'Neighborhood',\n",
    "       'Bldg Type', 'House Style', 'Roof Style', 'Exterior 1st',\n",
    "       'Exterior 2nd', 'Exter Qual', 'Foundation', 'Heating QC', 'Central Air',\n",
    "       'Electrical', 'Kitchen Qual', 'Paved Drive', 'Sale Type',\n",
    "       'Sale Condition']"
   ]
  },
  {
   "cell_type": "code",
   "execution_count": 6,
   "metadata": {},
   "outputs": [],
   "source": [
    "def pre_process(df, phase='train'):\n",
    "    df = df.drop(['Wood Deck SF'], axis=1)\n",
    "    if(phase == 'train'):\n",
    "        df = df[df['MS SubClass'] < 150]\n",
    "        df = df[df['Lot Area'] < 15000]\n",
    "        df = df[df['1st Flr SF'] < 1800]\n",
    "        df = df[(df['SalePrice'] > 100000) & (df['SalePrice'] < 200000)]\n",
    "    \n",
    "    return df"
   ]
  },
  {
   "cell_type": "code",
   "execution_count": 7,
   "metadata": {},
   "outputs": [],
   "source": [
    "df_train = pre_process(df_train, phase=\"train\")\n",
    "df_test = pre_process(df_test, phase=\"test\")"
   ]
  },
  {
   "cell_type": "code",
   "execution_count": 8,
   "metadata": {},
   "outputs": [],
   "source": [
    "encoder = Pipeline([\n",
    "    SelectCategorical(exclude_cols=[]),\n",
    "    LabelEncoder(output_suffix=\"\"),\n",
    "])\n",
    "encoded_df_train = encoder.fit_transform(df_train)\n",
    "encoded_df_test = encoder.transform(df_test)"
   ]
  },
  {
   "cell_type": "code",
   "execution_count": 9,
   "metadata": {},
   "outputs": [],
   "source": [
    "df_train = pd.concat([SelectNumerical().fit_transform(df_train), encoded_df_train], axis=1)\n",
    "df_test = pd.concat([SelectNumerical().fit_transform(df_test), encoded_df_test], axis=1)"
   ]
  },
  {
   "cell_type": "code",
   "execution_count": 10,
   "metadata": {},
   "outputs": [],
   "source": [
    "X_train = df_train.drop(['index', 'SalePrice'], axis=1)\n",
    "y_train = df_train['SalePrice']"
   ]
  },
  {
   "cell_type": "code",
   "execution_count": 11,
   "metadata": {},
   "outputs": [],
   "source": [
    "folds = KFold(n_splits=5, shuffle=True,random_state=42)"
   ]
  },
  {
   "cell_type": "code",
   "execution_count": 12,
   "metadata": {},
   "outputs": [],
   "source": [
    "params = {\n",
    "    'objective': 'regression',\n",
    "    'metric': 'rmse',\n",
    "    'verbose': -1\n",
    "}"
   ]
  },
  {
   "cell_type": "code",
   "execution_count": 13,
   "metadata": {},
   "outputs": [],
   "source": [
    "# from optuna.integration import lightgbm as lgb_op\n",
    "\n",
    "# best_params = {}\n",
    "\n",
    "# with timer(\"wait\"):\n",
    "#     for train_index, val_index in folds.split(X_train, y_train):\n",
    "#         lgb_train = lgb.Dataset(X_train.iloc[train_index], y_train.iloc[train_index])\n",
    "#         lgb_eval = lgb.Dataset(X_train.iloc[val_index], y_train.iloc[val_index], reference=lgb_train)\n",
    "#         best = lgb_op.train(params,\n",
    "#                          lgb_train,\n",
    "#                          valid_sets=lgb_eval,\n",
    "#                          verbose_eval=False,\n",
    "#                          num_boost_round=1000,\n",
    "#                          early_stopping_rounds=30,\n",
    "#                         )\n",
    "#         best_params = (best.params)\n",
    "#         break\n",
    "\n",
    "# best_params"
   ]
  },
  {
   "cell_type": "code",
   "execution_count": 14,
   "metadata": {},
   "outputs": [],
   "source": [
    "params = {'objective': 'regression',\n",
    "             'metric': 'rmse',\n",
    "             'verbose': -1,\n",
    "             'feature_pre_filter': False,\n",
    "             'lambda_l1': 1.9246603611247695,\n",
    "             'lambda_l2': 0.0015207873611208637,\n",
    "             'num_leaves': 45,\n",
    "             'feature_fraction': 0.616,\n",
    "             'bagging_fraction': 1.0,\n",
    "             'bagging_freq': 0,\n",
    "             'min_child_samples': 20,\n",
    "}"
   ]
  },
  {
   "cell_type": "code",
   "execution_count": 15,
   "metadata": {},
   "outputs": [
    {
     "name": "stdout",
     "output_type": "stream",
     "text": [
      "15121.815522879584\n"
     ]
    }
   ],
   "source": [
    "#folds = KFold(n_splits=5, shuffle=True,random_state=42)\n",
    "\n",
    "lgb_train = lgb.Dataset(X_train, y_train)\n",
    "\n",
    "model = lgb.cv(params,\n",
    "                 lgb_train,\n",
    "                 folds=folds,\n",
    "                 num_boost_round=1000,\n",
    "                 early_stopping_rounds=10,\n",
    "                 return_cvbooster=True,\n",
    "                )\n",
    "\n",
    "cv_score = model['rmse-mean'][-1]\n"
   ]
  },
  {
   "cell_type": "code",
   "execution_count": 16,
   "metadata": {},
   "outputs": [
    {
     "data": {
      "text/plain": [
       "[<matplotlib.lines.Line2D at 0x7f71da93a490>]"
      ]
     },
     "execution_count": 16,
     "metadata": {},
     "output_type": "execute_result"
    },
    {
     "data": {
      "image/png": "[encoded data removed]",
      "text/plain": [
       "<Figure size 576x432 with 1 Axes>"
      ]
     },
     "metadata": {
      "needs_background": "light"
     },
     "output_type": "display_data"
    }
   ],
   "source": [
    "_,ax = plt.subplots(figsize=(8,6))\n",
    "ax.set_xlabel('epochs')\n",
    "ax.set_ylabel('rmse')\n",
    "ax.plot(np.arange(0,len(model['rmse-mean'])),model['rmse-mean'])"
   ]
  },
  {
   "cell_type": "code",
   "execution_count": 17,
   "metadata": {},
   "outputs": [
    {
     "data": {
      "text/plain": [
       "<AxesSubplot:xlabel='Importance', ylabel='Feature'>"
      ]
     },
     "execution_count": 17,
     "metadata": {},
     "output_type": "execute_result"
    },
    {
     "data": {
      "image/png": "[encoded data removed]",
      "text/plain": [
       "<Figure size 576x576 with 1 Axes>"
      ]
     },
     "metadata": {
      "needs_background": "light"
     },
     "output_type": "display_data"
    }
   ],
   "source": [
    "cvbooster = model['cvbooster']\n",
    "\n",
    "raw_importances = cvbooster.feature_importance(importance_type='gain')\n",
    "feature_names = cvbooster.boosters[0].feature_name()\n",
    "df_importance = pd.DataFrame(data=raw_importances, columns=feature_names)\n",
    "\n",
    "# 平均値ソート\n",
    "sorted_indices = df_importance.mean(axis=0).sort_values(ascending=False).index\n",
    "sorted_df_importance = df_importance.loc[:, sorted_indices]\n",
    "\n",
    "#PLOT_TOP_N = 40\n",
    "#plot_cols = sorted_df_importance.columns[:PLOT_TOP_N]\n",
    "plot_cols = sorted_df_importance.columns\n",
    "_, ax = plt.subplots(figsize=(8,8))\n",
    "ax.grid()\n",
    "ax.set_xscale('log')\n",
    "ax.set_ylabel('Feature')\n",
    "ax.set_xlabel('Importance')\n",
    "sns.boxplot(data=sorted_df_importance[plot_cols],\n",
    "           orient='h',\n",
    "           ax=ax)"
   ]
  },
  {
   "cell_type": "code",
   "execution_count": 18,
   "metadata": {},
   "outputs": [],
   "source": [
    "# X_test = df_test.drop(['index'], axis=1)\n",
    "\n",
    "# predicted = np.zeros(X_test.shape[0])\n",
    "# for i in np.arange(len(cvbooster.boosters)):\n",
    "#     predicted += cvbooster.boosters[i].predict(X_test) / len(cvbooster.boosters)\n",
    "\n",
    "# output = pd.DataFrame({'index':df_test['index'],'predicted': predicted})\n",
    "# output.to_csv('./output/submit.csv', index=False, header=False)"
   ]
  },
  {
   "cell_type": "code",
   "execution_count": 19,
   "metadata": {},
   "outputs": [],
   "source": [
    "# import json\n",
    "# import datetime\n",
    "\n",
    "# meta = {\n",
    "#     'model':MODEL_NAME,\n",
    "#     'cv_score':cv_score,\n",
    "#     'created_at':datetime.datetime.now().strftime('%Y%m%d%H%M%S')\n",
    "# }\n",
    "\n",
    "# with open('./output/submit.json', 'w') as f:\n",
    "#     json.dump(meta, f)"
   ]
  },
  {
   "cell_type": "code",
   "execution_count": 21,
   "metadata": {},
   "outputs": [
    {
     "name": "stdout",
     "output_type": "stream",
     "text": [
      "15121.815522879584\n"
     ]
    }
   ],
   "source": [
    "print(cv_score)"
   ]
  },
  {
   "cell_type": "code",
   "execution_count": null,
   "metadata": {},
   "outputs": [],
   "source": []
  }
 ],
 "metadata": {
  "kernelspec": {
   "display_name": "Python 3",
   "language": "python",
   "name": "python3"
  },
  "language_info": {
   "codemirror_mode": {
    "name": "ipython",
    "version": 3
   },
   "file_extension": ".py",
   "mimetype": "text/x-python",
   "name": "python",
   "nbconvert_exporter": "python",
   "pygments_lexer": "ipython3",
   "version": "3.8.5"
  }
 },
 "nbformat": 4,
 "nbformat_minor": 4
}
