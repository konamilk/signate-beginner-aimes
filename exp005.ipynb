{
 "cells": [
  {
   "cell_type": "markdown",
   "metadata": {},
   "source": [
    "# exp005\n",
    "\n",
    "連続量に2項掛け算\n",
    "\n",
    "\n",
    "CV | 15467.82510619225\n",
    "\n",
    "PublicLB| 26776.50\n",
    "\n",
    "------------------\n",
    "baseline\n",
    "\n",
    "CV | 15121.815522879584\n",
    "\n",
    "PrivateLB | 26707.419"
   ]
  },
  {
   "cell_type": "code",
   "execution_count": 1,
   "metadata": {},
   "outputs": [],
   "source": [
    "MODEL_NAME = 'exp005'"
   ]
  },
  {
   "cell_type": "code",
   "execution_count": 2,
   "metadata": {},
   "outputs": [],
   "source": [
    "import numpy as np\n",
    "import pandas as pd\n",
    "import matplotlib.pyplot as plt\n",
    "import seaborn as sns\n",
    "\n",
    "from sklearn.model_selection import KFold\n",
    "from functools import partial\n",
    "\n",
    "import lightgbm as lgb\n",
    "\n",
    "import json\n",
    "\n",
    "from xfeat import SelectCategorical, LabelEncoder, Pipeline, ConcatCombination, SelectNumerical, \\\n",
    "    ArithmeticCombinations, TargetEncoder, aggregation, GBDTFeatureSelector, GBDTFeatureExplorer, LambdaEncoder\n",
    "    "
   ]
  },
  {
   "cell_type": "code",
   "execution_count": 3,
   "metadata": {},
   "outputs": [],
   "source": [
    "import time\n",
    "\n",
    "from contextlib import contextmanager\n",
    "\n",
    "\n",
    "@contextmanager\n",
    "def timer(name):\n",
    "    t0 = time.time()\n",
    "    yield\n",
    "    print(f'[{name}] done in {time.time() - t0:.0f} s')"
   ]
  },
  {
   "cell_type": "code",
   "execution_count": 4,
   "metadata": {},
   "outputs": [],
   "source": [
    "df_train = pd.read_csv('./input/train.csv')\n",
    "df_test = pd.read_csv('./input/test.csv')"
   ]
  },
  {
   "cell_type": "code",
   "execution_count": 5,
   "metadata": {},
   "outputs": [],
   "source": [
    "def pre_process(df, phase='train'):\n",
    "    if(phase == 'train'):\n",
    "        df = df[df['MS SubClass'] < 150]\n",
    "        df = df[df['Lot Area'] < 15000]\n",
    "        df = df[df['1st Flr SF'] < 1800]\n",
    "        df = df[(df['SalePrice'] > 100000) & (df['SalePrice'] < 200000)]\n",
    "    \n",
    "    return df"
   ]
  },
  {
   "cell_type": "code",
   "execution_count": 6,
   "metadata": {},
   "outputs": [],
   "source": [
    "df_train = pre_process(df_train, phase=\"train\")\n",
    "df_test = pre_process(df_test, phase=\"test\")"
   ]
  },
  {
   "cell_type": "code",
   "execution_count": 7,
   "metadata": {},
   "outputs": [],
   "source": [
    "# numeric_columns = [continuous_columns, discrete_columns]\n",
    "# numeric_columns = ['index','Order', 'MS SubClass', 'Lot Area', 'Overall Qual',\n",
    "#        'Overall Cond', 'Year Built', 'Year Remod/Add', '1st Flr SF',\n",
    "#        '2nd Flr SF', 'Gr Liv Area', 'Full Bath', 'Half Bath', 'Bedroom AbvGr',\n",
    "#        'Kitchen AbvGr', 'TotRms AbvGrd', 'Fireplaces', 'Wood Deck SF',\n",
    "#        'Open Porch SF', 'Mo Sold', 'Yr Sold', 'SalePrice']\n",
    "\n",
    "target_column = 'SalePrice'\n",
    "index_column = 'index'\n",
    "\n",
    "continuous_columns = ['Lot Area','BsmtFin SF 1','Bsmt Unf SF','Total Bsmt SF','1st Flr SF',\n",
    "                      '2nd Flr SF','Gr Liv Area','Garage Area','Wood Deck SF','Open Porch SF']\n",
    "\n",
    "discrete_columns = ['Order','MS SubClass','Overall Qual','Overall Cond','Year Built',\n",
    "                    'Year Remod/Add','Full Bath','Half Bath','Bedroom AbvGr','Kitchen AbvGr','TotRms AbvGrd',\n",
    "                    'Fireplaces','Mo Sold','Yr Sold']\n",
    "\n",
    "categorical_columns = ['MS Zoning', 'Lot Shape', 'Land Contour', 'Lot Config', 'Neighborhood',\n",
    "       'Bldg Type', 'House Style', 'Roof Style', 'Exterior 1st',\n",
    "       'Exterior 2nd', 'Exter Qual', 'Foundation', 'Heating QC', 'Central Air',\n",
    "       'Electrical', 'Kitchen Qual', 'Paved Drive', 'Sale Type',\n",
    "       'Sale Condition']"
   ]
  },
  {
   "cell_type": "code",
   "execution_count": 8,
   "metadata": {},
   "outputs": [],
   "source": [
    "encoder = Pipeline([\n",
    "    SelectCategorical(exclude_cols=[]),\n",
    "    LabelEncoder(output_suffix=\"\"),\n",
    "])\n",
    "df_train_categorical = encoder.fit_transform(df_train)\n",
    "df_test_categorical = encoder.transform(df_test)"
   ]
  },
  {
   "cell_type": "code",
   "execution_count": 9,
   "metadata": {},
   "outputs": [],
   "source": [
    "encoder = Pipeline([\n",
    "    ArithmeticCombinations(input_cols=continuous_columns,\n",
    "                       drop_origin=False,\n",
    "                       operator=\"*\",\n",
    "                       r=2,\n",
    "                       output_suffix=\"_mul\"),\n",
    "])\n",
    "df_train_continuous = encoder.transform(df_train[continuous_columns])\n",
    "df_test_continuous = encoder.transform(df_test[continuous_columns])"
   ]
  },
  {
   "cell_type": "code",
   "execution_count": 10,
   "metadata": {},
   "outputs": [],
   "source": [
    "df_train = pd.concat([df_train[index_column],\n",
    "                      df_train_continuous,\n",
    "                      df_train[discrete_columns],\n",
    "                      df_train_categorical,\n",
    "                      df_train[target_column]], axis=1)\n",
    "df_test = pd.concat([df_test[index_column],\n",
    "                     df_test_continuous,\n",
    "                     df_test[discrete_columns],\n",
    "                     df_test_categorical], axis=1)"
   ]
  },
  {
   "cell_type": "code",
   "execution_count": 11,
   "metadata": {},
   "outputs": [
    {
     "data": {
      "text/html": [
       "<div>\n",
       "<style scoped>\n",
       "    .dataframe tbody tr th:only-of-type {\n",
       "        vertical-align: middle;\n",
       "    }\n",
       "\n",
       "    .dataframe tbody tr th {\n",
       "        vertical-align: top;\n",
       "    }\n",
       "\n",
       "    .dataframe thead th {\n",
       "        text-align: right;\n",
       "    }\n",
       "</style>\n",
       "<table border=\"1\" class=\"dataframe\">\n",
       "  <thead>\n",
       "    <tr style=\"text-align: right;\">\n",
       "      <th></th>\n",
       "      <th>index</th>\n",
       "      <th>Lot Area</th>\n",
       "      <th>BsmtFin SF 1</th>\n",
       "      <th>Bsmt Unf SF</th>\n",
       "      <th>Total Bsmt SF</th>\n",
       "      <th>1st Flr SF</th>\n",
       "      <th>2nd Flr SF</th>\n",
       "      <th>Gr Liv Area</th>\n",
       "      <th>Garage Area</th>\n",
       "      <th>Wood Deck SF</th>\n",
       "      <th>...</th>\n",
       "      <th>Exter Qual</th>\n",
       "      <th>Foundation</th>\n",
       "      <th>Heating QC</th>\n",
       "      <th>Central Air</th>\n",
       "      <th>Electrical</th>\n",
       "      <th>Kitchen Qual</th>\n",
       "      <th>Paved Drive</th>\n",
       "      <th>Sale Type</th>\n",
       "      <th>Sale Condition</th>\n",
       "      <th>SalePrice</th>\n",
       "    </tr>\n",
       "  </thead>\n",
       "  <tbody>\n",
       "    <tr>\n",
       "      <th>0</th>\n",
       "      <td>200</td>\n",
       "      <td>9000</td>\n",
       "      <td>554.725259</td>\n",
       "      <td>490.862838</td>\n",
       "      <td>620.339061</td>\n",
       "      <td>941</td>\n",
       "      <td>0</td>\n",
       "      <td>2358</td>\n",
       "      <td>381.014258</td>\n",
       "      <td>0</td>\n",
       "      <td>...</td>\n",
       "      <td>0</td>\n",
       "      <td>0</td>\n",
       "      <td>0</td>\n",
       "      <td>0</td>\n",
       "      <td>0</td>\n",
       "      <td>0</td>\n",
       "      <td>0</td>\n",
       "      <td>0</td>\n",
       "      <td>0</td>\n",
       "      <td>158000</td>\n",
       "    </tr>\n",
       "    <tr>\n",
       "      <th>1</th>\n",
       "      <td>3832</td>\n",
       "      <td>9600</td>\n",
       "      <td>514.217911</td>\n",
       "      <td>1711.943709</td>\n",
       "      <td>1286.011022</td>\n",
       "      <td>894</td>\n",
       "      <td>0</td>\n",
       "      <td>1040</td>\n",
       "      <td>384.114652</td>\n",
       "      <td>0</td>\n",
       "      <td>...</td>\n",
       "      <td>1</td>\n",
       "      <td>1</td>\n",
       "      <td>0</td>\n",
       "      <td>0</td>\n",
       "      <td>0</td>\n",
       "      <td>1</td>\n",
       "      <td>0</td>\n",
       "      <td>0</td>\n",
       "      <td>0</td>\n",
       "      <td>145000</td>\n",
       "    </tr>\n",
       "    <tr>\n",
       "      <th>2</th>\n",
       "      <td>4927</td>\n",
       "      <td>9600</td>\n",
       "      <td>1596.991227</td>\n",
       "      <td>511.217197</td>\n",
       "      <td>1341.741207</td>\n",
       "      <td>864</td>\n",
       "      <td>0</td>\n",
       "      <td>864</td>\n",
       "      <td>625.140330</td>\n",
       "      <td>0</td>\n",
       "      <td>...</td>\n",
       "      <td>1</td>\n",
       "      <td>1</td>\n",
       "      <td>0</td>\n",
       "      <td>0</td>\n",
       "      <td>0</td>\n",
       "      <td>1</td>\n",
       "      <td>0</td>\n",
       "      <td>0</td>\n",
       "      <td>0</td>\n",
       "      <td>125000</td>\n",
       "    </tr>\n",
       "  </tbody>\n",
       "</table>\n",
       "<p>3 rows × 90 columns</p>\n",
       "</div>"
      ],
      "text/plain": [
       "   index  Lot Area  BsmtFin SF 1  Bsmt Unf SF  Total Bsmt SF  1st Flr SF  \\\n",
       "0    200      9000    554.725259   490.862838     620.339061         941   \n",
       "1   3832      9600    514.217911  1711.943709    1286.011022         894   \n",
       "2   4927      9600   1596.991227   511.217197    1341.741207         864   \n",
       "\n",
       "   2nd Flr SF  Gr Liv Area  Garage Area  Wood Deck SF  ...  Exter Qual  \\\n",
       "0           0         2358   381.014258             0  ...           0   \n",
       "1           0         1040   384.114652             0  ...           1   \n",
       "2           0          864   625.140330             0  ...           1   \n",
       "\n",
       "   Foundation  Heating QC  Central Air  Electrical  Kitchen Qual  Paved Drive  \\\n",
       "0           0           0            0           0             0            0   \n",
       "1           1           0            0           0             1            0   \n",
       "2           1           0            0           0             1            0   \n",
       "\n",
       "   Sale Type  Sale Condition  SalePrice  \n",
       "0          0               0     158000  \n",
       "1          0               0     145000  \n",
       "2          0               0     125000  \n",
       "\n",
       "[3 rows x 90 columns]"
      ]
     },
     "execution_count": 11,
     "metadata": {},
     "output_type": "execute_result"
    }
   ],
   "source": [
    "df_train.head(3)"
   ]
  },
  {
   "cell_type": "code",
   "execution_count": 12,
   "metadata": {},
   "outputs": [
    {
     "data": {
      "text/html": [
       "<div>\n",
       "<style scoped>\n",
       "    .dataframe tbody tr th:only-of-type {\n",
       "        vertical-align: middle;\n",
       "    }\n",
       "\n",
       "    .dataframe tbody tr th {\n",
       "        vertical-align: top;\n",
       "    }\n",
       "\n",
       "    .dataframe thead th {\n",
       "        text-align: right;\n",
       "    }\n",
       "</style>\n",
       "<table border=\"1\" class=\"dataframe\">\n",
       "  <thead>\n",
       "    <tr style=\"text-align: right;\">\n",
       "      <th></th>\n",
       "      <th>index</th>\n",
       "      <th>Lot Area</th>\n",
       "      <th>BsmtFin SF 1</th>\n",
       "      <th>Bsmt Unf SF</th>\n",
       "      <th>Total Bsmt SF</th>\n",
       "      <th>1st Flr SF</th>\n",
       "      <th>2nd Flr SF</th>\n",
       "      <th>Gr Liv Area</th>\n",
       "      <th>Garage Area</th>\n",
       "      <th>Wood Deck SF</th>\n",
       "      <th>...</th>\n",
       "      <th>Exterior 2nd</th>\n",
       "      <th>Exter Qual</th>\n",
       "      <th>Foundation</th>\n",
       "      <th>Heating QC</th>\n",
       "      <th>Central Air</th>\n",
       "      <th>Electrical</th>\n",
       "      <th>Kitchen Qual</th>\n",
       "      <th>Paved Drive</th>\n",
       "      <th>Sale Type</th>\n",
       "      <th>Sale Condition</th>\n",
       "    </tr>\n",
       "  </thead>\n",
       "  <tbody>\n",
       "    <tr>\n",
       "      <th>0</th>\n",
       "      <td>398</td>\n",
       "      <td>6120</td>\n",
       "      <td>505.055258</td>\n",
       "      <td>197.338260</td>\n",
       "      <td>616.126989</td>\n",
       "      <td>864</td>\n",
       "      <td>0</td>\n",
       "      <td>864</td>\n",
       "      <td>372.666174</td>\n",
       "      <td>0</td>\n",
       "      <td>...</td>\n",
       "      <td>0</td>\n",
       "      <td>0</td>\n",
       "      <td>1</td>\n",
       "      <td>0</td>\n",
       "      <td>0</td>\n",
       "      <td>0</td>\n",
       "      <td>1</td>\n",
       "      <td>0</td>\n",
       "      <td>0</td>\n",
       "      <td>0</td>\n",
       "    </tr>\n",
       "    <tr>\n",
       "      <th>1</th>\n",
       "      <td>3833</td>\n",
       "      <td>9600</td>\n",
       "      <td>1624.953706</td>\n",
       "      <td>494.176016</td>\n",
       "      <td>1285.118653</td>\n",
       "      <td>1382</td>\n",
       "      <td>0</td>\n",
       "      <td>864</td>\n",
       "      <td>637.974154</td>\n",
       "      <td>0</td>\n",
       "      <td>...</td>\n",
       "      <td>0</td>\n",
       "      <td>0</td>\n",
       "      <td>1</td>\n",
       "      <td>0</td>\n",
       "      <td>0</td>\n",
       "      <td>0</td>\n",
       "      <td>0</td>\n",
       "      <td>0</td>\n",
       "      <td>0</td>\n",
       "      <td>0</td>\n",
       "    </tr>\n",
       "    <tr>\n",
       "      <th>2</th>\n",
       "      <td>4836</td>\n",
       "      <td>9600</td>\n",
       "      <td>0.001088</td>\n",
       "      <td>1813.402938</td>\n",
       "      <td>1294.560167</td>\n",
       "      <td>912</td>\n",
       "      <td>0</td>\n",
       "      <td>864</td>\n",
       "      <td>605.913790</td>\n",
       "      <td>0</td>\n",
       "      <td>...</td>\n",
       "      <td>0</td>\n",
       "      <td>0</td>\n",
       "      <td>1</td>\n",
       "      <td>0</td>\n",
       "      <td>0</td>\n",
       "      <td>0</td>\n",
       "      <td>2</td>\n",
       "      <td>0</td>\n",
       "      <td>0</td>\n",
       "      <td>0</td>\n",
       "    </tr>\n",
       "  </tbody>\n",
       "</table>\n",
       "<p>3 rows × 89 columns</p>\n",
       "</div>"
      ],
      "text/plain": [
       "   index  Lot Area  BsmtFin SF 1  Bsmt Unf SF  Total Bsmt SF  1st Flr SF  \\\n",
       "0    398      6120    505.055258   197.338260     616.126989         864   \n",
       "1   3833      9600   1624.953706   494.176016    1285.118653        1382   \n",
       "2   4836      9600      0.001088  1813.402938    1294.560167         912   \n",
       "\n",
       "   2nd Flr SF  Gr Liv Area  Garage Area  Wood Deck SF  ...  Exterior 2nd  \\\n",
       "0           0          864   372.666174             0  ...             0   \n",
       "1           0          864   637.974154             0  ...             0   \n",
       "2           0          864   605.913790             0  ...             0   \n",
       "\n",
       "   Exter Qual  Foundation  Heating QC  Central Air  Electrical  Kitchen Qual  \\\n",
       "0           0           1           0            0           0             1   \n",
       "1           0           1           0            0           0             0   \n",
       "2           0           1           0            0           0             2   \n",
       "\n",
       "   Paved Drive  Sale Type  Sale Condition  \n",
       "0            0          0               0  \n",
       "1            0          0               0  \n",
       "2            0          0               0  \n",
       "\n",
       "[3 rows x 89 columns]"
      ]
     },
     "execution_count": 12,
     "metadata": {},
     "output_type": "execute_result"
    }
   ],
   "source": [
    "df_test.head(3)"
   ]
  },
  {
   "cell_type": "code",
   "execution_count": 13,
   "metadata": {},
   "outputs": [
    {
     "name": "stdout",
     "output_type": "stream",
     "text": [
      "<class 'pandas.core.frame.DataFrame'>\n",
      "Int64Index: 2659 entries, 0 to 2999\n",
      "Data columns (total 90 columns):\n",
      " #   Column                          Non-Null Count  Dtype  \n",
      "---  ------                          --------------  -----  \n",
      " 0   index                           2659 non-null   int64  \n",
      " 1   Lot Area                        2659 non-null   int64  \n",
      " 2   BsmtFin SF 1                    2659 non-null   float64\n",
      " 3   Bsmt Unf SF                     2659 non-null   float64\n",
      " 4   Total Bsmt SF                   2659 non-null   float64\n",
      " 5   1st Flr SF                      2659 non-null   int64  \n",
      " 6   2nd Flr SF                      2659 non-null   int64  \n",
      " 7   Gr Liv Area                     2659 non-null   int64  \n",
      " 8   Garage Area                     2659 non-null   float64\n",
      " 9   Wood Deck SF                    2659 non-null   int64  \n",
      " 10  Open Porch SF                   2659 non-null   int64  \n",
      " 11  Lot AreaBsmtFin SF 1_mul        2659 non-null   float64\n",
      " 12  Lot AreaBsmt Unf SF_mul         2659 non-null   float64\n",
      " 13  Lot AreaTotal Bsmt SF_mul       2659 non-null   float64\n",
      " 14  Lot Area1st Flr SF_mul          2659 non-null   int64  \n",
      " 15  Lot Area2nd Flr SF_mul          2659 non-null   int64  \n",
      " 16  Lot AreaGr Liv Area_mul         2659 non-null   int64  \n",
      " 17  Lot AreaGarage Area_mul         2659 non-null   float64\n",
      " 18  Lot AreaWood Deck SF_mul        2659 non-null   int64  \n",
      " 19  Lot AreaOpen Porch SF_mul       2659 non-null   int64  \n",
      " 20  BsmtFin SF 1Bsmt Unf SF_mul     2659 non-null   float64\n",
      " 21  BsmtFin SF 1Total Bsmt SF_mul   2659 non-null   float64\n",
      " 22  BsmtFin SF 11st Flr SF_mul      2659 non-null   float64\n",
      " 23  BsmtFin SF 12nd Flr SF_mul      2659 non-null   float64\n",
      " 24  BsmtFin SF 1Gr Liv Area_mul     2659 non-null   float64\n",
      " 25  BsmtFin SF 1Garage Area_mul     2659 non-null   float64\n",
      " 26  BsmtFin SF 1Wood Deck SF_mul    2659 non-null   float64\n",
      " 27  BsmtFin SF 1Open Porch SF_mul   2659 non-null   float64\n",
      " 28  Bsmt Unf SFTotal Bsmt SF_mul    2659 non-null   float64\n",
      " 29  Bsmt Unf SF1st Flr SF_mul       2659 non-null   float64\n",
      " 30  Bsmt Unf SF2nd Flr SF_mul       2659 non-null   float64\n",
      " 31  Bsmt Unf SFGr Liv Area_mul      2659 non-null   float64\n",
      " 32  Bsmt Unf SFGarage Area_mul      2659 non-null   float64\n",
      " 33  Bsmt Unf SFWood Deck SF_mul     2659 non-null   float64\n",
      " 34  Bsmt Unf SFOpen Porch SF_mul    2659 non-null   float64\n",
      " 35  Total Bsmt SF1st Flr SF_mul     2659 non-null   float64\n",
      " 36  Total Bsmt SF2nd Flr SF_mul     2659 non-null   float64\n",
      " 37  Total Bsmt SFGr Liv Area_mul    2659 non-null   float64\n",
      " 38  Total Bsmt SFGarage Area_mul    2659 non-null   float64\n",
      " 39  Total Bsmt SFWood Deck SF_mul   2659 non-null   float64\n",
      " 40  Total Bsmt SFOpen Porch SF_mul  2659 non-null   float64\n",
      " 41  1st Flr SF2nd Flr SF_mul        2659 non-null   int64  \n",
      " 42  1st Flr SFGr Liv Area_mul       2659 non-null   int64  \n",
      " 43  1st Flr SFGarage Area_mul       2659 non-null   float64\n",
      " 44  1st Flr SFWood Deck SF_mul      2659 non-null   int64  \n",
      " 45  1st Flr SFOpen Porch SF_mul     2659 non-null   int64  \n",
      " 46  2nd Flr SFGr Liv Area_mul       2659 non-null   int64  \n",
      " 47  2nd Flr SFGarage Area_mul       2659 non-null   float64\n",
      " 48  2nd Flr SFWood Deck SF_mul      2659 non-null   int64  \n",
      " 49  2nd Flr SFOpen Porch SF_mul     2659 non-null   int64  \n",
      " 50  Gr Liv AreaGarage Area_mul      2659 non-null   float64\n",
      " 51  Gr Liv AreaWood Deck SF_mul     2659 non-null   int64  \n",
      " 52  Gr Liv AreaOpen Porch SF_mul    2659 non-null   int64  \n",
      " 53  Garage AreaWood Deck SF_mul     2659 non-null   float64\n",
      " 54  Garage AreaOpen Porch SF_mul    2659 non-null   float64\n",
      " 55  Wood Deck SFOpen Porch SF_mul   2659 non-null   int64  \n",
      " 56  Order                           2659 non-null   int64  \n",
      " 57  MS SubClass                     2659 non-null   int64  \n",
      " 58  Overall Qual                    2659 non-null   int64  \n",
      " 59  Overall Cond                    2659 non-null   int64  \n",
      " 60  Year Built                      2659 non-null   int64  \n",
      " 61  Year Remod/Add                  2659 non-null   int64  \n",
      " 62  Full Bath                       2659 non-null   int64  \n",
      " 63  Half Bath                       2659 non-null   int64  \n",
      " 64  Bedroom AbvGr                   2659 non-null   int64  \n",
      " 65  Kitchen AbvGr                   2659 non-null   int64  \n",
      " 66  TotRms AbvGrd                   2659 non-null   int64  \n",
      " 67  Fireplaces                      2659 non-null   int64  \n",
      " 68  Mo Sold                         2659 non-null   int64  \n",
      " 69  Yr Sold                         2659 non-null   int64  \n",
      " 70  MS Zoning                       2659 non-null   int64  \n",
      " 71  Lot Shape                       2659 non-null   int64  \n",
      " 72  Land Contour                    2659 non-null   int64  \n",
      " 73  Lot Config                      2659 non-null   int64  \n",
      " 74  Neighborhood                    2659 non-null   int64  \n",
      " 75  Bldg Type                       2659 non-null   int64  \n",
      " 76  House Style                     2659 non-null   int64  \n",
      " 77  Roof Style                      2659 non-null   int64  \n",
      " 78  Exterior 1st                    2659 non-null   int64  \n",
      " 79  Exterior 2nd                    2659 non-null   int64  \n",
      " 80  Exter Qual                      2659 non-null   int64  \n",
      " 81  Foundation                      2659 non-null   int64  \n",
      " 82  Heating QC                      2659 non-null   int64  \n",
      " 83  Central Air                     2659 non-null   int64  \n",
      " 84  Electrical                      2659 non-null   int64  \n",
      " 85  Kitchen Qual                    2659 non-null   int64  \n",
      " 86  Paved Drive                     2659 non-null   int64  \n",
      " 87  Sale Type                       2659 non-null   int64  \n",
      " 88  Sale Condition                  2659 non-null   int64  \n",
      " 89  SalePrice                       2659 non-null   int64  \n",
      "dtypes: float64(34), int64(56)\n",
      "memory usage: 1.8 MB\n"
     ]
    }
   ],
   "source": [
    "df_train.info()"
   ]
  },
  {
   "cell_type": "code",
   "execution_count": 14,
   "metadata": {},
   "outputs": [],
   "source": [
    "X_train = df_train.drop(['index', 'SalePrice'], axis=1)\n",
    "y_train = df_train['SalePrice']"
   ]
  },
  {
   "cell_type": "code",
   "execution_count": 15,
   "metadata": {},
   "outputs": [],
   "source": [
    "folds = KFold(n_splits=5, shuffle=True,random_state=42)"
   ]
  },
  {
   "cell_type": "code",
   "execution_count": 16,
   "metadata": {},
   "outputs": [],
   "source": [
    "params = {\n",
    "    'objective': 'regression',\n",
    "    'metric': 'rmse',\n",
    "    'verbose': -1\n",
    "}"
   ]
  },
  {
   "cell_type": "code",
   "execution_count": 17,
   "metadata": {},
   "outputs": [],
   "source": [
    "# from optuna.integration import lightgbm as lgb_op\n",
    "\n",
    "# best_params = {}\n",
    "\n",
    "# with timer(\"wait\"):\n",
    "#     for train_index, val_index in folds.split(X_train, y_train):\n",
    "#         lgb_train = lgb.Dataset(X_train.iloc[train_index], y_train.iloc[train_index])\n",
    "#         lgb_eval = lgb.Dataset(X_train.iloc[val_index], y_train.iloc[val_index], reference=lgb_train)\n",
    "#         best = lgb_op.train(params,\n",
    "#                          lgb_train,\n",
    "#                          valid_sets=lgb_eval,\n",
    "#                          verbose_eval=False,\n",
    "#                          num_boost_round=1000,\n",
    "#                          early_stopping_rounds=30,\n",
    "#                         )\n",
    "#         best_params = (best.params)\n",
    "#         break\n",
    "\n",
    "# params = best_params"
   ]
  },
  {
   "cell_type": "code",
   "execution_count": 18,
   "metadata": {},
   "outputs": [],
   "source": [
    "params = {'objective': 'regression',\n",
    "             'metric': 'rmse',\n",
    "             'verbose': -1,\n",
    "             'feature_pre_filter': False,\n",
    "             'lambda_l1': 1.9246603611247695,\n",
    "             'lambda_l2': 0.0015207873611208637,\n",
    "             'num_leaves': 45,\n",
    "             'feature_fraction': 0.616,\n",
    "             'bagging_fraction': 1.0,\n",
    "             'bagging_freq': 0,\n",
    "             'min_child_samples': 20,\n",
    "}"
   ]
  },
  {
   "cell_type": "code",
   "execution_count": 19,
   "metadata": {},
   "outputs": [
    {
     "name": "stdout",
     "output_type": "stream",
     "text": [
      "15467.82510619225\n"
     ]
    }
   ],
   "source": [
    "#folds = KFold(n_splits=5, shuffle=True,random_state=42)\n",
    "\n",
    "lgb_train = lgb.Dataset(X_train, y_train)\n",
    "\n",
    "model = lgb.cv(params,\n",
    "                 lgb_train,\n",
    "                 folds=folds,\n",
    "                 num_boost_round=1000,\n",
    "                 early_stopping_rounds=10,\n",
    "                 return_cvbooster=True,\n",
    "                )\n",
    "\n",
    "cv_score = model['rmse-mean'][-1]\n",
    "print(cv_score)"
   ]
  },
  {
   "cell_type": "code",
   "execution_count": 20,
   "metadata": {},
   "outputs": [
    {
     "data": {
      "text/plain": [
       "[<matplotlib.lines.Line2D at 0x7f69fc25e310>]"
      ]
     },
     "execution_count": 20,
     "metadata": {},
     "output_type": "execute_result"
    },
    {
     "data": {
      "image/png": "[encoded data removed]",
      "text/plain": [
       "<Figure size 576x432 with 1 Axes>"
      ]
     },
     "metadata": {
      "needs_background": "light"
     },
     "output_type": "display_data"
    }
   ],
   "source": [
    "_,ax = plt.subplots(figsize=(8,6))\n",
    "ax.set_xlabel('epochs')\n",
    "ax.set_ylabel('rmse')\n",
    "ax.plot(np.arange(0,len(model['rmse-mean'])),model['rmse-mean'])"
   ]
  },
  {
   "cell_type": "code",
   "execution_count": 21,
   "metadata": {},
   "outputs": [
    {
     "data": {
      "text/plain": [
       "<AxesSubplot:xlabel='Importance', ylabel='Feature'>"
      ]
     },
     "execution_count": 21,
     "metadata": {},
     "output_type": "execute_result"
    },
    {
     "data": {
      "image/png": "[encoded data removed]",
      "text/plain": [
       "<Figure size 576x576 with 1 Axes>"
      ]
     },
     "metadata": {
      "needs_background": "light"
     },
     "output_type": "display_data"
    }
   ],
   "source": [
    "cvbooster = model['cvbooster']\n",
    "\n",
    "raw_importances = cvbooster.feature_importance(importance_type='gain')\n",
    "feature_names = cvbooster.boosters[0].feature_name()\n",
    "df_importance = pd.DataFrame(data=raw_importances, columns=feature_names)\n",
    "\n",
    "# 平均値ソート\n",
    "sorted_indices = df_importance.mean(axis=0).sort_values(ascending=False).index\n",
    "sorted_df_importance = df_importance.loc[:, sorted_indices]\n",
    "\n",
    "PLOT_TOP_N = 20\n",
    "plot_cols = sorted_df_importance.columns[:PLOT_TOP_N]\n",
    "#plot_cols = sorted_df_importance.columns\n",
    "_, ax = plt.subplots(figsize=(8,8))\n",
    "ax.grid()\n",
    "ax.set_xscale('log')\n",
    "ax.set_ylabel('Feature')\n",
    "ax.set_xlabel('Importance')\n",
    "sns.boxplot(data=sorted_df_importance[plot_cols],\n",
    "           orient='h',\n",
    "           ax=ax)"
   ]
  },
  {
   "cell_type": "code",
   "execution_count": 22,
   "metadata": {},
   "outputs": [],
   "source": [
    "X_test = df_test.drop(['index'], axis=1)\n",
    "\n",
    "predicted = np.zeros(X_test.shape[0])\n",
    "for i in np.arange(len(cvbooster.boosters)):\n",
    "    predicted += cvbooster.boosters[i].predict(X_test) / len(cvbooster.boosters)\n",
    "\n",
    "output = pd.DataFrame({'index':df_test['index'],'predicted': predicted})\n",
    "output.to_csv('./output/submit.csv', index=False, header=False)"
   ]
  },
  {
   "cell_type": "code",
   "execution_count": 23,
   "metadata": {},
   "outputs": [],
   "source": [
    "import json\n",
    "import datetime\n",
    "\n",
    "meta = {\n",
    "    'model':MODEL_NAME,\n",
    "    'cv_score':cv_score,\n",
    "    'created_at':datetime.datetime.now().strftime('%Y%m%d%H%M%S')\n",
    "}\n",
    "\n",
    "with open('./output/submit.json', 'w') as f:\n",
    "    json.dump(meta, f)"
   ]
  },
  {
   "cell_type": "code",
   "execution_count": 24,
   "metadata": {},
   "outputs": [
    {
     "name": "stdout",
     "output_type": "stream",
     "text": [
      "15467.82510619225\n"
     ]
    }
   ],
   "source": [
    "print(cv_score)"
   ]
  },
  {
   "cell_type": "code",
   "execution_count": null,
   "metadata": {},
   "outputs": [],
   "source": []
  }
 ],
 "metadata": {
  "kernelspec": {
   "display_name": "Python 3",
   "language": "python",
   "name": "python3"
  },
  "language_info": {
   "codemirror_mode": {
    "name": "ipython",
    "version": 3
   },
   "file_extension": ".py",
   "mimetype": "text/x-python",
   "name": "python",
   "nbconvert_exporter": "python",
   "pygments_lexer": "ipython3",
   "version": "3.8.5"
  }
 },
 "nbformat": 4,
 "nbformat_minor": 4
}
