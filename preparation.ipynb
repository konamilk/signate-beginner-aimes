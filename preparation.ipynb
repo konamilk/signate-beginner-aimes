{
 "cells": [
  {
   "cell_type": "code",
   "execution_count": 1,
   "metadata": {},
   "outputs": [
    {
     "name": "stdout",
     "output_type": "stream",
     "text": [
      "  competitionId  title                                                                     closing     prize                                                                       submitters\n",
      "---------------  ------------------------------------------------------------------------  ----------  ------------------------------------------------------------------------  ------------\n",
      "              1  【練習問題】銀行の顧客ターゲティング                                      -                                                                                             4319\n",
      "             24  【練習問題】お弁当の需要予測                                              -                                                                                             5212\n",
      "             27  【練習問題】Jリーグの観客動員数予測                                       -                                                                                             1122\n",
      "            100  【練習問題】手書き文字認識                                                -           Knowledge                                                                          114\n",
      "            102  【練習問題】タイタニックの生存予測                                        -           Knowledge                                                                          421\n",
      "            103  【練習問題】音楽ラベリング                                                -           Knowledge                                                                           28\n",
      "            104  【練習問題】スパムメール分類                                              -           Knowledge                                                                           92\n",
      "            105  【練習問題】毒キノコの分類                                                -           Knowledge                                                                          185\n",
      "            106  【練習問題】アワビの年齢予測                                              -           Knowledge                                                                          285\n",
      "            107  【練習問題】国勢調査からの収入予測                                        -           Knowledge                                                                          398\n",
      "            108  【練習問題】画像ラベリング（２０種類）                                    -           Knowledge                                                                          164\n",
      "            109  オフロード画像のセグメンテーションチャレンジ（認識精度部門）              2021-02-11  total 600,000 yen                                                                   34\n",
      "            112  【練習問題】ワインの品種の予測                                            -           Knowledge                                                                          250\n",
      "            114  【練習問題】レンタル自転車の利用者数予測                                  -           Knowledge                                                                          308\n",
      "            115  【練習問題】アヤメの分類                                                  -           Knowledge                                                                          245\n",
      "            121  【練習問題】自動車の走行距離予測                                          -           Knowledge                                                                          775\n",
      "            122  【練習問題】自動車の評価                                                  -           Knowledge                                                                          253\n",
      "            124  【練習問題】ボットの判別                                                  -           Knowledge                                                                          227\n",
      "            132  【練習問題】ネット広告のクリック予測                                      -           Knowledge                                                                          118\n",
      "            133  【練習問題】画像ラベリング（１０種類）                                    -                                                                                              288\n",
      "            135  【練習問題】ネット画像の分類                                              -                                                                                               66\n",
      "            262  【SOTA】国立国会図書館の画像データレイアウト認識                          2100-12-31  -                                                                                    8\n",
      "            263  【SOTA】産業技術総合研究所 衛星画像分析コンテスト                         2100-12-31  -                                                                                    9\n",
      "            264  【SOTA】マイナビ × SIGNATE Student Cup 2019: 賃貸物件の家賃予測           2100-12-31  -                                                                                  150\n",
      "            265  【練習問題】健診データによる肝疾患判定                                    -                                                                                              223\n",
      "            266  【練習問題】民泊サービスの宿泊価格予測                                    -                                                                                              199\n",
      "            267  【SOTA】海洋研究開発機構 熱帯低気圧（台風等）検出アルゴリズム作成         2100-12-31  -                                                                                    6\n",
      "            268  【SOTA】オプト レコメンドエンジン作成                                     2100-12-31                                                                                       5\n",
      "            269  【SOTA】アップル 引越し需要予測                                           2100-12-31  -                                                                                   82\n",
      "            270  【SOTA】Weather Challenge：雲画像予測                                     2100-12-31  -                                                                                    3\n",
      "            271  【SOTA】JR西日本 走行中の北陸新幹線車両台車部の着雪量予測                 2100-12-31  -                                                                                    1\n",
      "            288  【SOTA】Sansan 名刺の項目予測                                             2100-12-31  -                                                                                    7\n",
      "            294  【練習問題】債務不履行リスクの低減                                        -                                                                                               42\n",
      "            358  【練習問題】機械稼働音の異常検知                                          -                                                                                               20\n",
      "            363  JR東日本 列車運行予測                                                     2021-01-21  総額¥1,500,000                                                                     350\n",
      "            401  【第5回_Beginner限定コンペ】アメリカの都市エイムズの住宅価格予測          2021-01-10                                                                                     228\n",
      "            403  漁業×AIチャレンジ： 魚群検知アルゴリズムの作成                            2021-02-10  総額￥1,100,000＋鰹節                                                               13\n",
      "            406  【練習問題】鋳造製品の欠陥検出                                            -                                                                                               15\n",
      "            407  COVID-19チャレンジ（フェーズ3 - ラウンド15）                              2021-01-03  社会貢献・名誉・著作クレジット                                                       4\n",
      "            409  【練習問題】株価の推移予測                                                -                                                                                               16\n",
      "            411  【学生限定】SIGNATE 22卒インターン選考コンペティション（予測モデル部門）  2021-02-03  高報酬(30万円/月)のインターンへの参加権利, SIGNATEへの新卒採用へのルート            77\n"
     ]
    }
   ],
   "source": [
    "!signate list"
   ]
  },
  {
   "cell_type": "code",
   "execution_count": 3,
   "metadata": {},
   "outputs": [
    {
     "name": "stdout",
     "output_type": "stream",
     "text": [
      "  fileId  name                  title                               size  updated_at\n",
      "--------  --------------------  --------------------------------  ------  -------------------\n",
      "    1519  train.csv             学習用データ                      844509  2020-12-11 09:32:02\n",
      "    1520  test.csv              評価用データ                      548547  2020-12-11 09:32:24\n",
      "    1521  sample_submit.csv     サンプルサブミッション用ファイル   23556  2020-11-30 11:17:59\n",
      "    1522  data_description.txt  data_description                   20243  2020-11-30 11:28:14\n"
     ]
    }
   ],
   "source": [
    "!signate files --competition-id=401"
   ]
  },
  {
   "cell_type": "code",
   "execution_count": 9,
   "metadata": {},
   "outputs": [
    {
     "name": "stdout",
     "output_type": "stream",
     "text": [
      "data_description.txt\n",
      "100% [..........................................................] 20243 / 20243\n",
      "sample_submit.csv\n",
      "100% [..........................................................] 23556 / 23556\n",
      "test.csv\n",
      "100% [........................................................] 475298 / 475298\n",
      "train.csv\n",
      "100% [........................................................] 734205 / 734205\n",
      "\u001b[32m\n",
      "Download completed.\u001b[0m\n"
     ]
    }
   ],
   "source": [
    "!signate download --competition-id=401"
   ]
  },
  {
   "cell_type": "code",
   "execution_count": 10,
   "metadata": {},
   "outputs": [],
   "source": [
    "!mkdir input"
   ]
  },
  {
   "cell_type": "code",
   "execution_count": 11,
   "metadata": {},
   "outputs": [],
   "source": [
    "mv *.csv input"
   ]
  },
  {
   "cell_type": "code",
   "execution_count": 12,
   "metadata": {},
   "outputs": [],
   "source": [
    "mv *.txt input"
   ]
  },
  {
   "cell_type": "code",
   "execution_count": null,
   "metadata": {},
   "outputs": [],
   "source": [
    "!mkdir output"
   ]
  },
  {
   "cell_type": "code",
   "execution_count": 1,
   "metadata": {},
   "outputs": [
    {
     "name": "stdout",
     "output_type": "stream",
     "text": [
      "Defaulting to user installation because normal site-packages is not writeable\n",
      "Collecting git+https://github.com/pfnet-research/xfeat.git\n",
      "  Cloning https://github.com/pfnet-research/xfeat.git to /tmp/pip-req-build-qk2uquta\n",
      "Requirement already satisfied: PyYAML in /usr/lib/python3/dist-packages (from xfeat==0.1.1) (5.3.1)\n",
      "Requirement already satisfied: scikit-learn in /home/pinana/.local/lib/python3.8/site-packages (from xfeat==0.1.1) (0.24.0)\n",
      "Collecting optuna>=1.3.0\n",
      "  Downloading optuna-2.3.0.tar.gz (258 kB)\n",
      "\u001b[K     |████████████████████████████████| 258 kB 6.3 MB/s eta 0:00:01\n",
      "\u001b[?25h  Installing build dependencies ... \u001b[?25ldone\n",
      "\u001b[?25h  Getting requirements to build wheel ... \u001b[?25ldone\n",
      "\u001b[?25h    Preparing wheel metadata ... \u001b[?25ldone\n",
      "\u001b[?25hRequirement already satisfied: packaging>=20.0 in /home/pinana/.local/lib/python3.8/site-packages (from optuna>=1.3.0->xfeat==0.1.1) (20.8)\n",
      "Requirement already satisfied: numpy in /home/pinana/.local/lib/python3.8/site-packages (from optuna>=1.3.0->xfeat==0.1.1) (1.19.4)\n",
      "Requirement already satisfied: joblib in /home/pinana/.local/lib/python3.8/site-packages (from optuna>=1.3.0->xfeat==0.1.1) (1.0.0)\n",
      "Requirement already satisfied: scipy!=1.4.0 in /home/pinana/.local/lib/python3.8/site-packages (from optuna>=1.3.0->xfeat==0.1.1) (1.6.0)\n",
      "Collecting cmaes>=0.6.0\n",
      "  Downloading cmaes-0.7.0-py3-none-any.whl (13 kB)\n",
      "Requirement already satisfied: pyparsing>=2.0.2 in /home/pinana/.local/lib/python3.8/site-packages (from packaging>=20.0->optuna>=1.3.0->xfeat==0.1.1) (2.4.7)\n",
      "Collecting sqlalchemy>=1.1.0\n",
      "  Downloading SQLAlchemy-1.3.22-cp38-cp38-manylinux2010_x86_64.whl (1.3 MB)\n",
      "\u001b[K     |████████████████████████████████| 1.3 MB 18.5 MB/s eta 0:00:01\n",
      "\u001b[?25hCollecting alembic\n",
      "  Downloading alembic-1.4.3-py2.py3-none-any.whl (159 kB)\n",
      "\u001b[K     |████████████████████████████████| 159 kB 34.2 MB/s eta 0:00:01\n",
      "\u001b[?25hRequirement already satisfied: python-dateutil in /home/pinana/.local/lib/python3.8/site-packages (from alembic->optuna>=1.3.0->xfeat==0.1.1) (2.8.1)\n",
      "Collecting python-editor>=0.3\n",
      "  Downloading python_editor-1.0.4-py3-none-any.whl (4.9 kB)\n",
      "Collecting cliff\n",
      "  Downloading cliff-3.5.0-py3-none-any.whl (81 kB)\n",
      "\u001b[K     |████████████████████████████████| 81 kB 15.3 MB/s eta 0:00:01\n",
      "\u001b[?25hRequirement already satisfied: six>=1.10.0 in /usr/lib/python3/dist-packages (from cliff->optuna>=1.3.0->xfeat==0.1.1) (1.14.0)\n",
      "Collecting cmd2!=0.8.3,>=0.8.0\n",
      "  Downloading cmd2-1.4.0-py3-none-any.whl (133 kB)\n",
      "\u001b[K     |████████████████████████████████| 133 kB 18.8 MB/s eta 0:00:01\n",
      "\u001b[?25hRequirement already satisfied: wcwidth>=0.1.7 in /home/pinana/.local/lib/python3.8/site-packages (from cmd2!=0.8.3,>=0.8.0->cliff->optuna>=1.3.0->xfeat==0.1.1) (0.2.5)\n",
      "Requirement already satisfied: attrs>=16.3.0 in /usr/lib/python3/dist-packages (from cmd2!=0.8.3,>=0.8.0->cliff->optuna>=1.3.0->xfeat==0.1.1) (19.3.0)\n",
      "Requirement already satisfied: colorama>=0.3.7 in /usr/lib/python3/dist-packages (from cmd2!=0.8.3,>=0.8.0->cliff->optuna>=1.3.0->xfeat==0.1.1) (0.4.3)\n",
      "Collecting pbr!=2.1.0,>=2.0.0\n",
      "  Downloading pbr-5.5.1-py2.py3-none-any.whl (106 kB)\n",
      "\u001b[K     |████████████████████████████████| 106 kB 36.4 MB/s eta 0:00:01\n",
      "\u001b[?25hCollecting PrettyTable<0.8,>=0.7.2\n",
      "  Downloading prettytable-0.7.2.zip (28 kB)\n",
      "Collecting pyperclip>=1.6\n",
      "  Downloading pyperclip-1.8.1.tar.gz (20 kB)\n",
      "Collecting stevedore>=2.0.1\n",
      "  Downloading stevedore-3.3.0-py3-none-any.whl (49 kB)\n",
      "\u001b[K     |████████████████████████████████| 49 kB 11.8 MB/s eta 0:00:01\n",
      "\u001b[?25hCollecting colorlog\n",
      "  Downloading colorlog-4.6.2-py2.py3-none-any.whl (10.0 kB)\n",
      "Collecting lightgbm\n",
      "  Downloading lightgbm-3.1.1-py2.py3-none-manylinux1_x86_64.whl (1.8 MB)\n",
      "\u001b[K     |████████████████████████████████| 1.8 MB 32.5 MB/s eta 0:00:01\n",
      "\u001b[?25hRequirement already satisfied: wheel in /home/pinana/.local/lib/python3.8/site-packages (from lightgbm->xfeat==0.1.1) (0.36.2)\n",
      "Requirement already satisfied: threadpoolctl>=2.0.0 in /home/pinana/.local/lib/python3.8/site-packages (from scikit-learn->xfeat==0.1.1) (2.1.0)\n",
      "Collecting Mako\n",
      "  Downloading Mako-1.1.3-py2.py3-none-any.whl (75 kB)\n",
      "\u001b[K     |████████████████████████████████| 75 kB 9.1 MB/s s eta 0:00:01\n",
      "\u001b[?25hRequirement already satisfied: MarkupSafe>=0.9.2 in /usr/lib/python3/dist-packages (from Mako->alembic->optuna>=1.3.0->xfeat==0.1.1) (1.1.0)\n",
      "Collecting ml_metrics\n",
      "  Downloading ml_metrics-0.1.4.tar.gz (5.0 kB)\n",
      "Requirement already satisfied: pandas in /home/pinana/.local/lib/python3.8/site-packages (from ml_metrics->xfeat==0.1.1) (1.2.0)\n",
      "Requirement already satisfied: pytz>=2017.3 in /home/pinana/.local/lib/python3.8/site-packages (from pandas->ml_metrics->xfeat==0.1.1) (2020.5)\n",
      "Collecting pyarrow\n",
      "  Downloading pyarrow-2.0.0-cp38-cp38-manylinux2014_x86_64.whl (17.8 MB)\n",
      "\u001b[K     |████████████████████████████████| 17.8 MB 55.6 MB/s eta 0:00:01\n",
      "\u001b[?25hCollecting tqdm\n",
      "  Downloading tqdm-4.55.0-py2.py3-none-any.whl (68 kB)\n",
      "\u001b[K     |████████████████████████████████| 68 kB 13.6 MB/s eta 0:00:01\n",
      "\u001b[?25hBuilding wheels for collected packages: xfeat, optuna, PrettyTable, pyperclip, ml-metrics\n",
      "  Building wheel for xfeat (setup.py) ... \u001b[?25ldone\n",
      "\u001b[?25h  Created wheel for xfeat: filename=xfeat-0.1.1-py3-none-any.whl size=39623 sha256=94aba85e7202fe16dd0ee98dfb2192e68543a0f17d8cf113ada21ebcba11708a\n",
      "  Stored in directory: /tmp/pip-ephem-wheel-cache-y99ksdgu/wheels/f2/25/45/56d5d42e191ac1b68f8babaf6d80c7e4ebf804ad41fff9383a\n",
      "  Building wheel for optuna (PEP 517) ... \u001b[?25ldone\n",
      "\u001b[?25h  Created wheel for optuna: filename=optuna-2.3.0-py3-none-any.whl size=359705 sha256=a2a6cdcbca169c0f10fe772c53f706282065e894cbcdebab4e4e91fd70858363\n",
      "  Stored in directory: /home/pinana/.cache/pip/wheels/90/cf/2a/6326fab045ea048eba2ebf4ffeb477b74e1c37639435ba0d0d\n",
      "  Building wheel for PrettyTable (setup.py) ... \u001b[?25ldone\n",
      "\u001b[?25h  Created wheel for PrettyTable: filename=prettytable-0.7.2-py3-none-any.whl size=13699 sha256=9b71e261433ed28d3589b9850cd0d64ece7319493e7000744fed597345b54436\n",
      "  Stored in directory: /home/pinana/.cache/pip/wheels/48/6d/77/9517cb933af254f51a446f1a5ec9c2be3e45f17384940bce68\n",
      "  Building wheel for pyperclip (setup.py) ... \u001b[?25ldone\n",
      "\u001b[?25h  Created wheel for pyperclip: filename=pyperclip-1.8.1-py3-none-any.whl size=11117 sha256=5cf0f444af8c6cd623ac62616c3e698880f7c26b77740cc9f95890b93663dc6c\n",
      "  Stored in directory: /home/pinana/.cache/pip/wheels/67/0c/ba/1468f38115898442e13f99a19a8dcf1e0ca73488053ef7b388\n",
      "  Building wheel for ml-metrics (setup.py) ... \u001b[?25ldone\n",
      "\u001b[?25h  Created wheel for ml-metrics: filename=ml_metrics-0.1.4-py3-none-any.whl size=7848 sha256=e440d011fa9899398f1f5f9b52d1e543bb01e6739cb7c3cc8b1e037326ba41b9\n",
      "  Stored in directory: /home/pinana/.cache/pip/wheels/09/2d/e7/58a96e635aedc543a3a78ff855dc9911d98fc1640e3921c823\n",
      "Successfully built xfeat optuna PrettyTable pyperclip ml-metrics\n",
      "Installing collected packages: pyperclip, pbr, stevedore, sqlalchemy, python-editor, PrettyTable, Mako, cmd2, tqdm, colorlog, cmaes, cliff, alembic, pyarrow, optuna, ml-metrics, lightgbm, xfeat\n",
      "Successfully installed Mako-1.1.3 PrettyTable-0.7.2 alembic-1.4.3 cliff-3.5.0 cmaes-0.7.0 cmd2-1.4.0 colorlog-4.6.2 lightgbm-3.1.1 ml-metrics-0.1.4 optuna-2.3.0 pbr-5.5.1 pyarrow-2.0.0 pyperclip-1.8.1 python-editor-1.0.4 sqlalchemy-1.3.22 stevedore-3.3.0 tqdm-4.55.0 xfeat-0.1.1\n"
     ]
    }
   ],
   "source": [
    "!pip install git+https://github.com/pfnet-research/xfeat.git"
   ]
  },
  {
   "cell_type": "code",
   "execution_count": null,
   "metadata": {},
   "outputs": [],
   "source": []
  },
  {
   "cell_type": "code",
   "execution_count": null,
   "metadata": {},
   "outputs": [],
   "source": []
  }
 ],
 "metadata": {
  "kernelspec": {
   "display_name": "Python 3",
   "language": "python",
   "name": "python3"
  },
  "language_info": {
   "codemirror_mode": {
    "name": "ipython",
    "version": 3
   },
   "file_extension": ".py",
   "mimetype": "text/x-python",
   "name": "python",
   "nbconvert_exporter": "python",
   "pygments_lexer": "ipython3",
   "version": "3.8.5"
  }
 },
 "nbformat": 4,
 "nbformat_minor": 4
}
